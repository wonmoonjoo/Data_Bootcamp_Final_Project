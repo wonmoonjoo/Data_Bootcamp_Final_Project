{
 "cells": [
  {
   "cell_type": "markdown",
   "metadata": {},
   "source": [
    "# Rethinking the Alphabet and its Words"
   ]
  },
  {
   "cell_type": "markdown",
   "metadata": {},
   "source": [
    "**by Won Moon Joo** \n",
    "\n",
    "**wmj212@nyu.edu**\n",
    "\n",
    "**Data Bootcamp**\n",
    "\n",
    "**12/22/17**"
   ]
  },
  {
   "cell_type": "markdown",
   "metadata": {},
   "source": [
    "Some Definitions:\n",
    "\n",
    "Vowel: a speech sound that is produced by comparatively open configuration of the vocal tract\n",
    "\n",
    "Consonant: a basic speech sound in which the breath is at least partly obstructed and which can be combined with a vowel to form a syllable\n",
    "\n",
    "\n",
    "The origins of language can be traced back to its spoken history. English, as we know it today, was formed into a written context through its use of vowels and consonants. In this project, I attempt to move away from such an aural understanding of English, into a written, \"codified\" form which translates into a faster and more literal method.\n",
    "\n",
    "The project:\n",
    "1. Will explore different lists of words\n",
    "2. Attempt to find a method to remove vowels of words while maintaining definitions\n",
    "3. Implement found methods onto a real work of literature (problems found: see below)\n"
   ]
  },
  {
   "cell_type": "markdown",
   "metadata": {},
   "source": [
    "# The Packages\n",
    "\n",
    "Below are the packages necessary:"
   ]
  },
  {
   "cell_type": "code",
   "execution_count": 37,
   "metadata": {
    "collapsed": true
   },
   "outputs": [],
   "source": [
    "#import necessary packages\n",
    "import os #key tool\n",
    "import pandas as pd #key tool\n",
    "import re #Regular Expressions packages to help manupulate strings\n",
    "import numpy as np #numerical operations\n",
    "import matplotlib.pyplot as plt #useful package to plot data\n",
    "from io import BytesIO #to open and read through .zip and .txt files\n",
    "from zipfile import ZipFile #to open .zip files\n",
    "from urllib.request import urlopen #to open and read through .zip and .txt files"
   ]
  },
  {
   "cell_type": "markdown",
   "metadata": {},
   "source": [
    "# Data Set One\n",
    "\n",
    "The first data set we will look at is a general compliation of 194,000 English words found at !JustWords (http://www.gwicks.net/dictionaries.htm).\n",
    "\n",
    "The url gives us the data in a .zip file, so the zipfile Package is used to obtain the .txt file within.\n",
    "\n"
   ]
  },
  {
   "cell_type": "code",
   "execution_count": 38,
   "metadata": {
    "collapsed": true
   },
   "outputs": [],
   "source": [
    "#obtaining data from the web\n",
    "\n",
    "#!JustWords\n",
    "url = urlopen('http://www.gwicks.net/textlists/english3.zip')\n",
    "\n",
    "zf = ZipFile(BytesIO(url.read()))\n",
    "\n",
    "english = pd.read_csv(zf.open('english3.txt'), header = None)\n",
    "\n",
    "english = english.rename(columns={0: 'Words'})\n",
    "\n",
    "#Change 'Words' to str\n",
    "english['Words']=english['Words'].astype(str)"
   ]
  },
  {
   "cell_type": "code",
   "execution_count": 39,
   "metadata": {},
   "outputs": [
    {
     "data": {
      "text/html": [
       "<div>\n",
       "<style>\n",
       "    .dataframe thead tr:only-child th {\n",
       "        text-align: right;\n",
       "    }\n",
       "\n",
       "    .dataframe thead th {\n",
       "        text-align: left;\n",
       "    }\n",
       "\n",
       "    .dataframe tbody tr th {\n",
       "        vertical-align: top;\n",
       "    }\n",
       "</style>\n",
       "<table border=\"1\" class=\"dataframe\">\n",
       "  <thead>\n",
       "    <tr style=\"text-align: right;\">\n",
       "      <th></th>\n",
       "      <th>Words</th>\n",
       "    </tr>\n",
       "  </thead>\n",
       "  <tbody>\n",
       "    <tr>\n",
       "      <th>0</th>\n",
       "      <td>a</td>\n",
       "    </tr>\n",
       "    <tr>\n",
       "      <th>1</th>\n",
       "      <td>aa</td>\n",
       "    </tr>\n",
       "    <tr>\n",
       "      <th>2</th>\n",
       "      <td>aaa</td>\n",
       "    </tr>\n",
       "    <tr>\n",
       "      <th>3</th>\n",
       "      <td>aachen</td>\n",
       "    </tr>\n",
       "    <tr>\n",
       "      <th>4</th>\n",
       "      <td>aardvark</td>\n",
       "    </tr>\n",
       "    <tr>\n",
       "      <th>5</th>\n",
       "      <td>aardvarks</td>\n",
       "    </tr>\n",
       "    <tr>\n",
       "      <th>6</th>\n",
       "      <td>aardwolf</td>\n",
       "    </tr>\n",
       "    <tr>\n",
       "      <th>7</th>\n",
       "      <td>aardwolves</td>\n",
       "    </tr>\n",
       "    <tr>\n",
       "      <th>8</th>\n",
       "      <td>aarhus</td>\n",
       "    </tr>\n",
       "    <tr>\n",
       "      <th>9</th>\n",
       "      <td>aaron</td>\n",
       "    </tr>\n",
       "  </tbody>\n",
       "</table>\n",
       "</div>"
      ],
      "text/plain": [
       "        Words\n",
       "0           a\n",
       "1          aa\n",
       "2         aaa\n",
       "3      aachen\n",
       "4    aardvark\n",
       "5   aardvarks\n",
       "6    aardwolf\n",
       "7  aardwolves\n",
       "8      aarhus\n",
       "9       aaron"
      ]
     },
     "execution_count": 39,
     "metadata": {},
     "output_type": "execute_result"
    }
   ],
   "source": [
    "english.head(10)"
   ]
  },
  {
   "cell_type": "markdown",
   "metadata": {},
   "source": [
    "Here the .head() function shows us the first 10 words of the list."
   ]
  },
  {
   "cell_type": "markdown",
   "metadata": {},
   "source": [
    "**Part 1:\n",
    "A. Removing All Vowels**\n",
    "\n",
    "First, we will indiscrimately remove all vowels in a given word. We create a function, removeVowels, that implements the Regular Expressions package to achieve this."
   ]
  },
  {
   "cell_type": "code",
   "execution_count": 40,
   "metadata": {
    "collapsed": true
   },
   "outputs": [],
   "source": [
    "#create a function 'removeVowels' which takes out all vowels in a word\n",
    "\n",
    "def removeVowels(s):\n",
    "    result = re.sub(r'[aeiou]', '', s)\n",
    "    return result"
   ]
  },
  {
   "cell_type": "markdown",
   "metadata": {},
   "source": [
    "We apply the function removeVowels to the dataframe english, and create a new column, Vowels Removed."
   ]
  },
  {
   "cell_type": "code",
   "execution_count": 41,
   "metadata": {
    "collapsed": true
   },
   "outputs": [],
   "source": [
    "#create new column 'Vowels Removed' by applying removeVowels function on 'Words'\n",
    "\n",
    "english['Vowels Removed'] = english['Words'].apply(removeVowels)\n",
    "\n"
   ]
  },
  {
   "cell_type": "code",
   "execution_count": 42,
   "metadata": {},
   "outputs": [
    {
     "data": {
      "text/html": [
       "<div>\n",
       "<style>\n",
       "    .dataframe thead tr:only-child th {\n",
       "        text-align: right;\n",
       "    }\n",
       "\n",
       "    .dataframe thead th {\n",
       "        text-align: left;\n",
       "    }\n",
       "\n",
       "    .dataframe tbody tr th {\n",
       "        vertical-align: top;\n",
       "    }\n",
       "</style>\n",
       "<table border=\"1\" class=\"dataframe\">\n",
       "  <thead>\n",
       "    <tr style=\"text-align: right;\">\n",
       "      <th></th>\n",
       "      <th>Words</th>\n",
       "      <th>Vowels Removed</th>\n",
       "    </tr>\n",
       "  </thead>\n",
       "  <tbody>\n",
       "    <tr>\n",
       "      <th>0</th>\n",
       "      <td>a</td>\n",
       "      <td></td>\n",
       "    </tr>\n",
       "    <tr>\n",
       "      <th>1</th>\n",
       "      <td>aa</td>\n",
       "      <td></td>\n",
       "    </tr>\n",
       "    <tr>\n",
       "      <th>2</th>\n",
       "      <td>aaa</td>\n",
       "      <td></td>\n",
       "    </tr>\n",
       "    <tr>\n",
       "      <th>3</th>\n",
       "      <td>aachen</td>\n",
       "      <td>chn</td>\n",
       "    </tr>\n",
       "    <tr>\n",
       "      <th>4</th>\n",
       "      <td>aardvark</td>\n",
       "      <td>rdvrk</td>\n",
       "    </tr>\n",
       "    <tr>\n",
       "      <th>5</th>\n",
       "      <td>aardvarks</td>\n",
       "      <td>rdvrks</td>\n",
       "    </tr>\n",
       "    <tr>\n",
       "      <th>6</th>\n",
       "      <td>aardwolf</td>\n",
       "      <td>rdwlf</td>\n",
       "    </tr>\n",
       "    <tr>\n",
       "      <th>7</th>\n",
       "      <td>aardwolves</td>\n",
       "      <td>rdwlvs</td>\n",
       "    </tr>\n",
       "    <tr>\n",
       "      <th>8</th>\n",
       "      <td>aarhus</td>\n",
       "      <td>rhs</td>\n",
       "    </tr>\n",
       "    <tr>\n",
       "      <th>9</th>\n",
       "      <td>aaron</td>\n",
       "      <td>rn</td>\n",
       "    </tr>\n",
       "  </tbody>\n",
       "</table>\n",
       "</div>"
      ],
      "text/plain": [
       "        Words Vowels Removed\n",
       "0           a               \n",
       "1          aa               \n",
       "2         aaa               \n",
       "3      aachen            chn\n",
       "4    aardvark          rdvrk\n",
       "5   aardvarks         rdvrks\n",
       "6    aardwolf          rdwlf\n",
       "7  aardwolves         rdwlvs\n",
       "8      aarhus            rhs\n",
       "9       aaron             rn"
      ]
     },
     "execution_count": 42,
     "metadata": {},
     "output_type": "execute_result"
    }
   ],
   "source": [
    "english.head(10)"
   ]
  },
  {
   "cell_type": "markdown",
   "metadata": {},
   "source": [
    "As shown above, we see two columns: the original words and words with all vowels removed. Removing all vowels in a word (especially when we are looking at the beginning of the list: words starting with \"a\", leaves the words unreadable."
   ]
  },
  {
   "cell_type": "markdown",
   "metadata": {},
   "source": [
    "**Part 2: Exceptions: First and Last Vowels.**\n",
    "\n",
    "The first exception is to ignore vowels which start and end a word.\n",
    "\n",
    "To allow for exceptions in removing vowels, some vowels will be capitalized (so that it is ignored by function removeVowels)\n",
    "\n",
    "Note: There are probably more efficient ways to do this i.e. create functions that include exceptions without use of capitalization"
   ]
  },
  {
   "cell_type": "markdown",
   "metadata": {},
   "source": [
    "We create a new function, capFirstLast, which capitalizes the first and last letters of a word."
   ]
  },
  {
   "cell_type": "code",
   "execution_count": 43,
   "metadata": {
    "collapsed": true
   },
   "outputs": [],
   "source": [
    "#create new function that capitalizes first and last letter\n",
    "def capFirstLast(s):\n",
    "    result = s[0].capitalize() + s[1:-1] + s[-1].capitalize()\n",
    "    return result"
   ]
  },
  {
   "cell_type": "markdown",
   "metadata": {},
   "source": [
    "We apply the function, capFirstLast, to the original words list, and then apply function removeVowels."
   ]
  },
  {
   "cell_type": "code",
   "execution_count": 44,
   "metadata": {
    "collapsed": true
   },
   "outputs": [],
   "source": [
    "#apply function capFirstLast to create a new column\n",
    "english['Vowels Removed EXCPT First and Last'] = english['Words'].apply(capFirstLast)\n",
    "\n",
    "#apply function removeVowels to remove all lowercase vowels\n",
    "english['Vowels Removed EXCPT First and Last'] = english['Vowels Removed EXCPT First and Last'].apply(removeVowels)\n"
   ]
  },
  {
   "cell_type": "code",
   "execution_count": 45,
   "metadata": {},
   "outputs": [
    {
     "data": {
      "text/html": [
       "<div>\n",
       "<style>\n",
       "    .dataframe thead tr:only-child th {\n",
       "        text-align: right;\n",
       "    }\n",
       "\n",
       "    .dataframe thead th {\n",
       "        text-align: left;\n",
       "    }\n",
       "\n",
       "    .dataframe tbody tr th {\n",
       "        vertical-align: top;\n",
       "    }\n",
       "</style>\n",
       "<table border=\"1\" class=\"dataframe\">\n",
       "  <thead>\n",
       "    <tr style=\"text-align: right;\">\n",
       "      <th></th>\n",
       "      <th>Words</th>\n",
       "      <th>Vowels Removed</th>\n",
       "      <th>Vowels Removed EXCPT First and Last</th>\n",
       "    </tr>\n",
       "  </thead>\n",
       "  <tbody>\n",
       "    <tr>\n",
       "      <th>0</th>\n",
       "      <td>a</td>\n",
       "      <td></td>\n",
       "      <td>AA</td>\n",
       "    </tr>\n",
       "    <tr>\n",
       "      <th>1</th>\n",
       "      <td>aa</td>\n",
       "      <td></td>\n",
       "      <td>AA</td>\n",
       "    </tr>\n",
       "    <tr>\n",
       "      <th>2</th>\n",
       "      <td>aaa</td>\n",
       "      <td></td>\n",
       "      <td>AA</td>\n",
       "    </tr>\n",
       "    <tr>\n",
       "      <th>3</th>\n",
       "      <td>aachen</td>\n",
       "      <td>chn</td>\n",
       "      <td>AchN</td>\n",
       "    </tr>\n",
       "    <tr>\n",
       "      <th>4</th>\n",
       "      <td>aardvark</td>\n",
       "      <td>rdvrk</td>\n",
       "      <td>ArdvrK</td>\n",
       "    </tr>\n",
       "    <tr>\n",
       "      <th>5</th>\n",
       "      <td>aardvarks</td>\n",
       "      <td>rdvrks</td>\n",
       "      <td>ArdvrkS</td>\n",
       "    </tr>\n",
       "    <tr>\n",
       "      <th>6</th>\n",
       "      <td>aardwolf</td>\n",
       "      <td>rdwlf</td>\n",
       "      <td>ArdwlF</td>\n",
       "    </tr>\n",
       "    <tr>\n",
       "      <th>7</th>\n",
       "      <td>aardwolves</td>\n",
       "      <td>rdwlvs</td>\n",
       "      <td>ArdwlvS</td>\n",
       "    </tr>\n",
       "    <tr>\n",
       "      <th>8</th>\n",
       "      <td>aarhus</td>\n",
       "      <td>rhs</td>\n",
       "      <td>ArhS</td>\n",
       "    </tr>\n",
       "    <tr>\n",
       "      <th>9</th>\n",
       "      <td>aaron</td>\n",
       "      <td>rn</td>\n",
       "      <td>ArN</td>\n",
       "    </tr>\n",
       "  </tbody>\n",
       "</table>\n",
       "</div>"
      ],
      "text/plain": [
       "        Words Vowels Removed Vowels Removed EXCPT First and Last\n",
       "0           a                                                 AA\n",
       "1          aa                                                 AA\n",
       "2         aaa                                                 AA\n",
       "3      aachen            chn                                AchN\n",
       "4    aardvark          rdvrk                              ArdvrK\n",
       "5   aardvarks         rdvrks                             ArdvrkS\n",
       "6    aardwolf          rdwlf                              ArdwlF\n",
       "7  aardwolves         rdwlvs                             ArdwlvS\n",
       "8      aarhus            rhs                                ArhS\n",
       "9       aaron             rn                                 ArN"
      ]
     },
     "execution_count": 45,
     "metadata": {},
     "output_type": "execute_result"
    }
   ],
   "source": [
    "english.head(10)"
   ]
  },
  {
   "cell_type": "markdown",
   "metadata": {},
   "source": [
    "Now its looking much better! At least the words starting with \"a\" are recognizable. One more exception to add..."
   ]
  },
  {
   "cell_type": "markdown",
   "metadata": {},
   "source": [
    "**Part 2: Exceptions: Consecutive Vowels**\n",
    "\n",
    "Similar to the First and Last Vowels function, all consecutive vowels will be capitalized so they will not be removed\n",
    "\n"
   ]
  },
  {
   "cell_type": "markdown",
   "metadata": {},
   "source": [
    "We create two new functions, cap and capConsecVowels. By combining the two functions, and using the regular expressions package, we are able to capitalize any combinations of consecutive vowels."
   ]
  },
  {
   "cell_type": "code",
   "execution_count": 46,
   "metadata": {
    "collapsed": true
   },
   "outputs": [],
   "source": [
    "#create function caps which capitalizes a string\n",
    "def cap(s):\n",
    "    return s.group(0).upper()\n",
    "\n",
    "#create function consecVowels which capitalizes all consecutive vowels\n",
    "def capConsecVowels(s):\n",
    "    result = re.sub(r'([aeiou]){2,5}', cap, s)\n",
    "    return result"
   ]
  },
  {
   "cell_type": "markdown",
   "metadata": {},
   "source": [
    "We apply the function capConsecVowels onto a new column, Vowels Removed EXCPT Consec,\n",
    "and then apply removeVowels."
   ]
  },
  {
   "cell_type": "code",
   "execution_count": 47,
   "metadata": {
    "collapsed": true
   },
   "outputs": [],
   "source": [
    "#apply consecVowels function to create a new column\n",
    "english['Vowels Removed EXCPT Consec'] = english['Words'].apply(capConsecVowels)\n",
    "\n",
    "\n",
    "#apply function removeVowels to remove all lowercase vowels\n",
    "english['Vowels Removed EXCPT Consec'] = english['Vowels Removed EXCPT Consec'].apply(removeVowels)"
   ]
  },
  {
   "cell_type": "code",
   "execution_count": 48,
   "metadata": {},
   "outputs": [
    {
     "data": {
      "text/html": [
       "<div>\n",
       "<style>\n",
       "    .dataframe thead tr:only-child th {\n",
       "        text-align: right;\n",
       "    }\n",
       "\n",
       "    .dataframe thead th {\n",
       "        text-align: left;\n",
       "    }\n",
       "\n",
       "    .dataframe tbody tr th {\n",
       "        vertical-align: top;\n",
       "    }\n",
       "</style>\n",
       "<table border=\"1\" class=\"dataframe\">\n",
       "  <thead>\n",
       "    <tr style=\"text-align: right;\">\n",
       "      <th></th>\n",
       "      <th>Words</th>\n",
       "      <th>Vowels Removed</th>\n",
       "      <th>Vowels Removed EXCPT First and Last</th>\n",
       "      <th>Vowels Removed EXCPT Consec</th>\n",
       "    </tr>\n",
       "  </thead>\n",
       "  <tbody>\n",
       "    <tr>\n",
       "      <th>0</th>\n",
       "      <td>a</td>\n",
       "      <td></td>\n",
       "      <td>AA</td>\n",
       "      <td></td>\n",
       "    </tr>\n",
       "    <tr>\n",
       "      <th>1</th>\n",
       "      <td>aa</td>\n",
       "      <td></td>\n",
       "      <td>AA</td>\n",
       "      <td>AA</td>\n",
       "    </tr>\n",
       "    <tr>\n",
       "      <th>2</th>\n",
       "      <td>aaa</td>\n",
       "      <td></td>\n",
       "      <td>AA</td>\n",
       "      <td>AAA</td>\n",
       "    </tr>\n",
       "    <tr>\n",
       "      <th>3</th>\n",
       "      <td>aachen</td>\n",
       "      <td>chn</td>\n",
       "      <td>AchN</td>\n",
       "      <td>AAchn</td>\n",
       "    </tr>\n",
       "    <tr>\n",
       "      <th>4</th>\n",
       "      <td>aardvark</td>\n",
       "      <td>rdvrk</td>\n",
       "      <td>ArdvrK</td>\n",
       "      <td>AArdvrk</td>\n",
       "    </tr>\n",
       "    <tr>\n",
       "      <th>5</th>\n",
       "      <td>aardvarks</td>\n",
       "      <td>rdvrks</td>\n",
       "      <td>ArdvrkS</td>\n",
       "      <td>AArdvrks</td>\n",
       "    </tr>\n",
       "    <tr>\n",
       "      <th>6</th>\n",
       "      <td>aardwolf</td>\n",
       "      <td>rdwlf</td>\n",
       "      <td>ArdwlF</td>\n",
       "      <td>AArdwlf</td>\n",
       "    </tr>\n",
       "    <tr>\n",
       "      <th>7</th>\n",
       "      <td>aardwolves</td>\n",
       "      <td>rdwlvs</td>\n",
       "      <td>ArdwlvS</td>\n",
       "      <td>AArdwlvs</td>\n",
       "    </tr>\n",
       "    <tr>\n",
       "      <th>8</th>\n",
       "      <td>aarhus</td>\n",
       "      <td>rhs</td>\n",
       "      <td>ArhS</td>\n",
       "      <td>AArhs</td>\n",
       "    </tr>\n",
       "    <tr>\n",
       "      <th>9</th>\n",
       "      <td>aaron</td>\n",
       "      <td>rn</td>\n",
       "      <td>ArN</td>\n",
       "      <td>AArn</td>\n",
       "    </tr>\n",
       "  </tbody>\n",
       "</table>\n",
       "</div>"
      ],
      "text/plain": [
       "        Words Vowels Removed Vowels Removed EXCPT First and Last  \\\n",
       "0           a                                                 AA   \n",
       "1          aa                                                 AA   \n",
       "2         aaa                                                 AA   \n",
       "3      aachen            chn                                AchN   \n",
       "4    aardvark          rdvrk                              ArdvrK   \n",
       "5   aardvarks         rdvrks                             ArdvrkS   \n",
       "6    aardwolf          rdwlf                              ArdwlF   \n",
       "7  aardwolves         rdwlvs                             ArdwlvS   \n",
       "8      aarhus            rhs                                ArhS   \n",
       "9       aaron             rn                                 ArN   \n",
       "\n",
       "  Vowels Removed EXCPT Consec  \n",
       "0                              \n",
       "1                          AA  \n",
       "2                         AAA  \n",
       "3                       AAchn  \n",
       "4                     AArdvrk  \n",
       "5                    AArdvrks  \n",
       "6                     AArdwlf  \n",
       "7                    AArdwlvs  \n",
       "8                       AArhs  \n",
       "9                        AArn  "
      ]
     },
     "execution_count": 48,
     "metadata": {},
     "output_type": "execute_result"
    }
   ],
   "source": [
    "english.head(10)"
   ]
  },
  {
   "cell_type": "markdown",
   "metadata": {},
   "source": [
    "We see here now, words that start with the double \"aa\" have their vowels kept. So far so good."
   ]
  },
  {
   "cell_type": "markdown",
   "metadata": {},
   "source": [
    "**Part 3: Putting Everything Together**\n",
    "\n",
    "The two exceptions will be applied to the original column 'Words'\n",
    "\n",
    "Meaning that first and last vowels, consecutive vowels will be kept.\n",
    "\n",
    "Note: it is important that we apply capConsecVowels first: to avoid mistakes on words that start with two vowels\n",
    "\n",
    "eg. aachen - if we cap first and last to AacheN, capConsecVowels will ignore 'Aa', because it is not 'aa'"
   ]
  },
  {
   "cell_type": "code",
   "execution_count": 49,
   "metadata": {
    "collapsed": true
   },
   "outputs": [],
   "source": [
    "#apply capConsecVowels function\n",
    "english['Vowels Removed with EXCPT A and B'] = english['Words'].apply(capConsecVowels)\n",
    "\n",
    "#apply function capFirstLast\n",
    "english['Vowels Removed with EXCPT A and B'] = english['Vowels Removed with EXCPT A and B'].apply(capFirstLast)\n",
    "\n",
    "#apply function removeVowels\n",
    "english['Vowels Removed with EXCPT A and B'] = english['Vowels Removed with EXCPT A and B'].apply(removeVowels)\n",
    "\n",
    "#make all words lowercase for visibility into new column Final\n",
    "english['FinalList'] = english['Vowels Removed with EXCPT A and B'].str.lower()"
   ]
  },
  {
   "cell_type": "code",
   "execution_count": 50,
   "metadata": {},
   "outputs": [
    {
     "data": {
      "text/html": [
       "<div>\n",
       "<style>\n",
       "    .dataframe thead tr:only-child th {\n",
       "        text-align: right;\n",
       "    }\n",
       "\n",
       "    .dataframe thead th {\n",
       "        text-align: left;\n",
       "    }\n",
       "\n",
       "    .dataframe tbody tr th {\n",
       "        vertical-align: top;\n",
       "    }\n",
       "</style>\n",
       "<table border=\"1\" class=\"dataframe\">\n",
       "  <thead>\n",
       "    <tr style=\"text-align: right;\">\n",
       "      <th></th>\n",
       "      <th>Words</th>\n",
       "      <th>Vowels Removed</th>\n",
       "      <th>Vowels Removed EXCPT First and Last</th>\n",
       "      <th>Vowels Removed EXCPT Consec</th>\n",
       "      <th>Vowels Removed with EXCPT A and B</th>\n",
       "      <th>FinalList</th>\n",
       "    </tr>\n",
       "  </thead>\n",
       "  <tbody>\n",
       "    <tr>\n",
       "      <th>0</th>\n",
       "      <td>a</td>\n",
       "      <td></td>\n",
       "      <td>AA</td>\n",
       "      <td></td>\n",
       "      <td>AA</td>\n",
       "      <td>aa</td>\n",
       "    </tr>\n",
       "    <tr>\n",
       "      <th>1</th>\n",
       "      <td>aa</td>\n",
       "      <td></td>\n",
       "      <td>AA</td>\n",
       "      <td>AA</td>\n",
       "      <td>AA</td>\n",
       "      <td>aa</td>\n",
       "    </tr>\n",
       "    <tr>\n",
       "      <th>2</th>\n",
       "      <td>aaa</td>\n",
       "      <td></td>\n",
       "      <td>AA</td>\n",
       "      <td>AAA</td>\n",
       "      <td>AAA</td>\n",
       "      <td>aaa</td>\n",
       "    </tr>\n",
       "    <tr>\n",
       "      <th>3</th>\n",
       "      <td>aachen</td>\n",
       "      <td>chn</td>\n",
       "      <td>AchN</td>\n",
       "      <td>AAchn</td>\n",
       "      <td>AAchN</td>\n",
       "      <td>aachn</td>\n",
       "    </tr>\n",
       "    <tr>\n",
       "      <th>4</th>\n",
       "      <td>aardvark</td>\n",
       "      <td>rdvrk</td>\n",
       "      <td>ArdvrK</td>\n",
       "      <td>AArdvrk</td>\n",
       "      <td>AArdvrK</td>\n",
       "      <td>aardvrk</td>\n",
       "    </tr>\n",
       "    <tr>\n",
       "      <th>5</th>\n",
       "      <td>aardvarks</td>\n",
       "      <td>rdvrks</td>\n",
       "      <td>ArdvrkS</td>\n",
       "      <td>AArdvrks</td>\n",
       "      <td>AArdvrkS</td>\n",
       "      <td>aardvrks</td>\n",
       "    </tr>\n",
       "    <tr>\n",
       "      <th>6</th>\n",
       "      <td>aardwolf</td>\n",
       "      <td>rdwlf</td>\n",
       "      <td>ArdwlF</td>\n",
       "      <td>AArdwlf</td>\n",
       "      <td>AArdwlF</td>\n",
       "      <td>aardwlf</td>\n",
       "    </tr>\n",
       "    <tr>\n",
       "      <th>7</th>\n",
       "      <td>aardwolves</td>\n",
       "      <td>rdwlvs</td>\n",
       "      <td>ArdwlvS</td>\n",
       "      <td>AArdwlvs</td>\n",
       "      <td>AArdwlvS</td>\n",
       "      <td>aardwlvs</td>\n",
       "    </tr>\n",
       "    <tr>\n",
       "      <th>8</th>\n",
       "      <td>aarhus</td>\n",
       "      <td>rhs</td>\n",
       "      <td>ArhS</td>\n",
       "      <td>AArhs</td>\n",
       "      <td>AArhS</td>\n",
       "      <td>aarhs</td>\n",
       "    </tr>\n",
       "    <tr>\n",
       "      <th>9</th>\n",
       "      <td>aaron</td>\n",
       "      <td>rn</td>\n",
       "      <td>ArN</td>\n",
       "      <td>AArn</td>\n",
       "      <td>AArN</td>\n",
       "      <td>aarn</td>\n",
       "    </tr>\n",
       "  </tbody>\n",
       "</table>\n",
       "</div>"
      ],
      "text/plain": [
       "        Words Vowels Removed Vowels Removed EXCPT First and Last  \\\n",
       "0           a                                                 AA   \n",
       "1          aa                                                 AA   \n",
       "2         aaa                                                 AA   \n",
       "3      aachen            chn                                AchN   \n",
       "4    aardvark          rdvrk                              ArdvrK   \n",
       "5   aardvarks         rdvrks                             ArdvrkS   \n",
       "6    aardwolf          rdwlf                              ArdwlF   \n",
       "7  aardwolves         rdwlvs                             ArdwlvS   \n",
       "8      aarhus            rhs                                ArhS   \n",
       "9       aaron             rn                                 ArN   \n",
       "\n",
       "  Vowels Removed EXCPT Consec Vowels Removed with EXCPT A and B FinalList  \n",
       "0                                                            AA        aa  \n",
       "1                          AA                                AA        aa  \n",
       "2                         AAA                               AAA       aaa  \n",
       "3                       AAchn                             AAchN     aachn  \n",
       "4                     AArdvrk                           AArdvrK   aardvrk  \n",
       "5                    AArdvrks                          AArdvrkS  aardvrks  \n",
       "6                     AArdwlf                           AArdwlF   aardwlf  \n",
       "7                    AArdwlvs                          AArdwlvS  aardwlvs  \n",
       "8                       AArhs                             AArhS     aarhs  \n",
       "9                        AArn                              AArN      aarn  "
      ]
     },
     "execution_count": 50,
     "metadata": {},
     "output_type": "execute_result"
    }
   ],
   "source": [
    "english.head(10)"
   ]
  },
  {
   "cell_type": "markdown",
   "metadata": {},
   "source": [
    "We can take a look at column FinalList to see what the words look like now."
   ]
  },
  {
   "cell_type": "code",
   "execution_count": 51,
   "metadata": {},
   "outputs": [
    {
     "data": {
      "text/html": [
       "<div>\n",
       "<style>\n",
       "    .dataframe thead tr:only-child th {\n",
       "        text-align: right;\n",
       "    }\n",
       "\n",
       "    .dataframe thead th {\n",
       "        text-align: left;\n",
       "    }\n",
       "\n",
       "    .dataframe tbody tr th {\n",
       "        vertical-align: top;\n",
       "    }\n",
       "</style>\n",
       "<table border=\"1\" class=\"dataframe\">\n",
       "  <thead>\n",
       "    <tr style=\"text-align: right;\">\n",
       "      <th></th>\n",
       "      <th>Words</th>\n",
       "      <th>Vowels Removed</th>\n",
       "      <th>Vowels Removed EXCPT First and Last</th>\n",
       "      <th>Vowels Removed EXCPT Consec</th>\n",
       "      <th>Vowels Removed with EXCPT A and B</th>\n",
       "      <th>FinalList</th>\n",
       "    </tr>\n",
       "  </thead>\n",
       "  <tbody>\n",
       "    <tr>\n",
       "      <th>100</th>\n",
       "      <td>abbotsbury</td>\n",
       "      <td>bbtsbry</td>\n",
       "      <td>AbbtsbrY</td>\n",
       "      <td>bbtsbry</td>\n",
       "      <td>AbbtsbrY</td>\n",
       "      <td>abbtsbry</td>\n",
       "    </tr>\n",
       "    <tr>\n",
       "      <th>101</th>\n",
       "      <td>abbotship</td>\n",
       "      <td>bbtshp</td>\n",
       "      <td>AbbtshP</td>\n",
       "      <td>bbtshp</td>\n",
       "      <td>AbbtshP</td>\n",
       "      <td>abbtshp</td>\n",
       "    </tr>\n",
       "    <tr>\n",
       "      <th>102</th>\n",
       "      <td>abbotships</td>\n",
       "      <td>bbtshps</td>\n",
       "      <td>AbbtshpS</td>\n",
       "      <td>bbtshps</td>\n",
       "      <td>AbbtshpS</td>\n",
       "      <td>abbtshps</td>\n",
       "    </tr>\n",
       "    <tr>\n",
       "      <th>103</th>\n",
       "      <td>abbott</td>\n",
       "      <td>bbtt</td>\n",
       "      <td>AbbtT</td>\n",
       "      <td>bbtt</td>\n",
       "      <td>AbbtT</td>\n",
       "      <td>abbtt</td>\n",
       "    </tr>\n",
       "    <tr>\n",
       "      <th>104</th>\n",
       "      <td>abbreviate</td>\n",
       "      <td>bbrvt</td>\n",
       "      <td>AbbrvtE</td>\n",
       "      <td>bbrvIAt</td>\n",
       "      <td>AbbrvIAtE</td>\n",
       "      <td>abbrviate</td>\n",
       "    </tr>\n",
       "    <tr>\n",
       "      <th>105</th>\n",
       "      <td>abbreviated</td>\n",
       "      <td>bbrvtd</td>\n",
       "      <td>AbbrvtD</td>\n",
       "      <td>bbrvIAtd</td>\n",
       "      <td>AbbrvIAtD</td>\n",
       "      <td>abbrviatd</td>\n",
       "    </tr>\n",
       "    <tr>\n",
       "      <th>106</th>\n",
       "      <td>abbreviates</td>\n",
       "      <td>bbrvts</td>\n",
       "      <td>AbbrvtS</td>\n",
       "      <td>bbrvIAts</td>\n",
       "      <td>AbbrvIAtS</td>\n",
       "      <td>abbrviats</td>\n",
       "    </tr>\n",
       "    <tr>\n",
       "      <th>107</th>\n",
       "      <td>abbreviating</td>\n",
       "      <td>bbrvtng</td>\n",
       "      <td>AbbrvtnG</td>\n",
       "      <td>bbrvIAtng</td>\n",
       "      <td>AbbrvIAtnG</td>\n",
       "      <td>abbrviatng</td>\n",
       "    </tr>\n",
       "    <tr>\n",
       "      <th>108</th>\n",
       "      <td>abbreviation</td>\n",
       "      <td>bbrvtn</td>\n",
       "      <td>AbbrvtN</td>\n",
       "      <td>bbrvIAtIOn</td>\n",
       "      <td>AbbrvIAtION</td>\n",
       "      <td>abbrviation</td>\n",
       "    </tr>\n",
       "    <tr>\n",
       "      <th>109</th>\n",
       "      <td>abbreviations</td>\n",
       "      <td>bbrvtns</td>\n",
       "      <td>AbbrvtnS</td>\n",
       "      <td>bbrvIAtIOns</td>\n",
       "      <td>AbbrvIAtIOnS</td>\n",
       "      <td>abbrviations</td>\n",
       "    </tr>\n",
       "  </tbody>\n",
       "</table>\n",
       "</div>"
      ],
      "text/plain": [
       "             Words Vowels Removed Vowels Removed EXCPT First and Last  \\\n",
       "100     abbotsbury        bbtsbry                            AbbtsbrY   \n",
       "101      abbotship         bbtshp                             AbbtshP   \n",
       "102     abbotships        bbtshps                            AbbtshpS   \n",
       "103         abbott           bbtt                               AbbtT   \n",
       "104     abbreviate          bbrvt                             AbbrvtE   \n",
       "105    abbreviated         bbrvtd                             AbbrvtD   \n",
       "106    abbreviates         bbrvts                             AbbrvtS   \n",
       "107   abbreviating        bbrvtng                            AbbrvtnG   \n",
       "108   abbreviation         bbrvtn                             AbbrvtN   \n",
       "109  abbreviations        bbrvtns                            AbbrvtnS   \n",
       "\n",
       "    Vowels Removed EXCPT Consec Vowels Removed with EXCPT A and B  \\\n",
       "100                     bbtsbry                          AbbtsbrY   \n",
       "101                      bbtshp                           AbbtshP   \n",
       "102                     bbtshps                          AbbtshpS   \n",
       "103                        bbtt                             AbbtT   \n",
       "104                     bbrvIAt                         AbbrvIAtE   \n",
       "105                    bbrvIAtd                         AbbrvIAtD   \n",
       "106                    bbrvIAts                         AbbrvIAtS   \n",
       "107                   bbrvIAtng                        AbbrvIAtnG   \n",
       "108                  bbrvIAtIOn                       AbbrvIAtION   \n",
       "109                 bbrvIAtIOns                      AbbrvIAtIOnS   \n",
       "\n",
       "        FinalList  \n",
       "100      abbtsbry  \n",
       "101       abbtshp  \n",
       "102      abbtshps  \n",
       "103         abbtt  \n",
       "104     abbrviate  \n",
       "105     abbrviatd  \n",
       "106     abbrviats  \n",
       "107    abbrviatng  \n",
       "108   abbrviation  \n",
       "109  abbrviations  "
      ]
     },
     "execution_count": 51,
     "metadata": {},
     "output_type": "execute_result"
    }
   ],
   "source": [
    "english[100:110]"
   ]
  },
  {
   "cell_type": "markdown",
   "metadata": {},
   "source": [
    "Lets take a look at another part of the list, just to make sure everything is correct.\n",
    "\n",
    "abbott -> abbtt\n",
    "\n",
    "abbreviate -> abbrviate"
   ]
  },
  {
   "cell_type": "markdown",
   "metadata": {},
   "source": [
    "# Date Set Two\n",
    "\n",
    "**Part 4: Same thing but on a smaller list**\n",
    "\n",
    "We apply the same functions as above to a list I found on github: https://gist.github.com/deekayen/4148741\n",
    "This is a list of the most commonly used 1000 English words.\n",
    "\n",
    "Steps are same as above. The new list is called common"
   ]
  },
  {
   "cell_type": "code",
   "execution_count": 52,
   "metadata": {
    "collapsed": true
   },
   "outputs": [],
   "source": [
    "url = 'https://gist.githubusercontent.com/deekayen/4148741/raw/01c6252ccc5b5fb307c1bb899c95989a8a284616/1-1000.txt'\n",
    "\n",
    "common = pd.read_csv(url, header = None)\n",
    "\n",
    "\n",
    "#rename first column into 'Words'\n",
    "common = common.rename(columns={0: 'Words'})\n",
    "\n",
    "#Change 'Words' to str\n",
    "common['Words']= common['Words'].astype(str)\n",
    "\n",
    "#apply capConsecVowels function\n",
    "common['FinalList'] = common['Words'].apply(capConsecVowels)\n",
    "\n",
    "#apply function capFirstLast\n",
    "common['FinalList'] = common['FinalList'].apply(capFirstLast)\n",
    "\n",
    "#apply function removeVowels\n",
    "common['FinalList'] = common['FinalList'].apply(removeVowels)\n",
    "\n",
    "#make all words lowercase for visibility into new column Final\n",
    "common['FinalList'] = common['FinalList'].str.lower()\n",
    "\n"
   ]
  },
  {
   "cell_type": "code",
   "execution_count": 53,
   "metadata": {},
   "outputs": [
    {
     "data": {
      "text/html": [
       "<div>\n",
       "<style>\n",
       "    .dataframe thead tr:only-child th {\n",
       "        text-align: right;\n",
       "    }\n",
       "\n",
       "    .dataframe thead th {\n",
       "        text-align: left;\n",
       "    }\n",
       "\n",
       "    .dataframe tbody tr th {\n",
       "        vertical-align: top;\n",
       "    }\n",
       "</style>\n",
       "<table border=\"1\" class=\"dataframe\">\n",
       "  <thead>\n",
       "    <tr style=\"text-align: right;\">\n",
       "      <th></th>\n",
       "      <th>Words</th>\n",
       "      <th>FinalList</th>\n",
       "    </tr>\n",
       "  </thead>\n",
       "  <tbody>\n",
       "    <tr>\n",
       "      <th>0</th>\n",
       "      <td>the</td>\n",
       "      <td>the</td>\n",
       "    </tr>\n",
       "    <tr>\n",
       "      <th>1</th>\n",
       "      <td>of</td>\n",
       "      <td>of</td>\n",
       "    </tr>\n",
       "    <tr>\n",
       "      <th>2</th>\n",
       "      <td>to</td>\n",
       "      <td>to</td>\n",
       "    </tr>\n",
       "    <tr>\n",
       "      <th>3</th>\n",
       "      <td>and</td>\n",
       "      <td>and</td>\n",
       "    </tr>\n",
       "    <tr>\n",
       "      <th>4</th>\n",
       "      <td>a</td>\n",
       "      <td>aa</td>\n",
       "    </tr>\n",
       "    <tr>\n",
       "      <th>5</th>\n",
       "      <td>in</td>\n",
       "      <td>in</td>\n",
       "    </tr>\n",
       "    <tr>\n",
       "      <th>6</th>\n",
       "      <td>is</td>\n",
       "      <td>is</td>\n",
       "    </tr>\n",
       "    <tr>\n",
       "      <th>7</th>\n",
       "      <td>it</td>\n",
       "      <td>it</td>\n",
       "    </tr>\n",
       "    <tr>\n",
       "      <th>8</th>\n",
       "      <td>you</td>\n",
       "      <td>you</td>\n",
       "    </tr>\n",
       "    <tr>\n",
       "      <th>9</th>\n",
       "      <td>that</td>\n",
       "      <td>tht</td>\n",
       "    </tr>\n",
       "    <tr>\n",
       "      <th>10</th>\n",
       "      <td>he</td>\n",
       "      <td>he</td>\n",
       "    </tr>\n",
       "    <tr>\n",
       "      <th>11</th>\n",
       "      <td>was</td>\n",
       "      <td>ws</td>\n",
       "    </tr>\n",
       "    <tr>\n",
       "      <th>12</th>\n",
       "      <td>for</td>\n",
       "      <td>fr</td>\n",
       "    </tr>\n",
       "    <tr>\n",
       "      <th>13</th>\n",
       "      <td>on</td>\n",
       "      <td>on</td>\n",
       "    </tr>\n",
       "    <tr>\n",
       "      <th>14</th>\n",
       "      <td>are</td>\n",
       "      <td>are</td>\n",
       "    </tr>\n",
       "    <tr>\n",
       "      <th>15</th>\n",
       "      <td>with</td>\n",
       "      <td>wth</td>\n",
       "    </tr>\n",
       "    <tr>\n",
       "      <th>16</th>\n",
       "      <td>as</td>\n",
       "      <td>as</td>\n",
       "    </tr>\n",
       "    <tr>\n",
       "      <th>17</th>\n",
       "      <td>I</td>\n",
       "      <td>ii</td>\n",
       "    </tr>\n",
       "    <tr>\n",
       "      <th>18</th>\n",
       "      <td>his</td>\n",
       "      <td>hs</td>\n",
       "    </tr>\n",
       "    <tr>\n",
       "      <th>19</th>\n",
       "      <td>they</td>\n",
       "      <td>thy</td>\n",
       "    </tr>\n",
       "  </tbody>\n",
       "</table>\n",
       "</div>"
      ],
      "text/plain": [
       "   Words FinalList\n",
       "0    the       the\n",
       "1     of        of\n",
       "2     to        to\n",
       "3    and       and\n",
       "4      a        aa\n",
       "5     in        in\n",
       "6     is        is\n",
       "7     it        it\n",
       "8    you       you\n",
       "9   that       tht\n",
       "10    he        he\n",
       "11   was        ws\n",
       "12   for        fr\n",
       "13    on        on\n",
       "14   are       are\n",
       "15  with       wth\n",
       "16    as        as\n",
       "17     I        ii\n",
       "18   his        hs\n",
       "19  they       thy"
      ]
     },
     "execution_count": 53,
     "metadata": {},
     "output_type": "execute_result"
    }
   ],
   "source": [
    "common.head(20)"
   ]
  },
  {
   "cell_type": "markdown",
   "metadata": {},
   "source": [
    "It seems like the vowel removing is successful. Although, the words are much shorter, and not too many vowels were removed as a result."
   ]
  },
  {
   "cell_type": "markdown",
   "metadata": {},
   "source": [
    "# Analysis\n",
    "\n",
    "How many DISTINCT words do we get? How many duplicates are made, as a result of vowels being removed?\n"
   ]
  },
  {
   "cell_type": "code",
   "execution_count": 54,
   "metadata": {
    "collapsed": true
   },
   "outputs": [],
   "source": [
    "#For COMMON\n",
    "\n",
    "\n",
    "#find count of how many distinct words we get\n",
    "commonAnalysis = common.FinalList.value_counts()\n",
    "\n",
    "#change Series into Dataframe\n",
    "commonAnalysis = commonAnalysis.to_frame('Count')\n",
    "\n",
    "#count how many of each unqiue value there are\n",
    "commonCounter = commonAnalysis.apply(pd.value_counts)\n",
    "\n",
    "\n",
    "#For ENGLISH\n",
    "\n",
    "#find count of how many distinct words we get\n",
    "englishAnalysis = english.FinalList.value_counts()\n",
    "\n",
    "#change Series into Dataframe\n",
    "englishAnalysis = englishAnalysis.to_frame('Count')\n",
    "\n",
    "#count how many of each unqiue value there are\n",
    "englishCounter = englishAnalysis.apply(pd.value_counts)"
   ]
  },
  {
   "cell_type": "code",
   "execution_count": 55,
   "metadata": {},
   "outputs": [
    {
     "data": {
      "text/html": [
       "<div>\n",
       "<style>\n",
       "    .dataframe thead tr:only-child th {\n",
       "        text-align: right;\n",
       "    }\n",
       "\n",
       "    .dataframe thead th {\n",
       "        text-align: left;\n",
       "    }\n",
       "\n",
       "    .dataframe tbody tr th {\n",
       "        vertical-align: top;\n",
       "    }\n",
       "</style>\n",
       "<table border=\"1\" class=\"dataframe\">\n",
       "  <thead>\n",
       "    <tr style=\"text-align: right;\">\n",
       "      <th></th>\n",
       "      <th>Count</th>\n",
       "    </tr>\n",
       "  </thead>\n",
       "  <tbody>\n",
       "    <tr>\n",
       "      <th>ht</th>\n",
       "      <td>4</td>\n",
       "    </tr>\n",
       "    <tr>\n",
       "      <th>fll</th>\n",
       "      <td>4</td>\n",
       "    </tr>\n",
       "    <tr>\n",
       "      <th>by</th>\n",
       "      <td>3</td>\n",
       "    </tr>\n",
       "    <tr>\n",
       "      <th>thn</th>\n",
       "      <td>3</td>\n",
       "    </tr>\n",
       "    <tr>\n",
       "      <th>bt</th>\n",
       "      <td>3</td>\n",
       "    </tr>\n",
       "  </tbody>\n",
       "</table>\n",
       "</div>"
      ],
      "text/plain": [
       "     Count\n",
       "ht       4\n",
       "fll      4\n",
       "by       3\n",
       "thn      3\n",
       "bt       3"
      ]
     },
     "execution_count": 55,
     "metadata": {},
     "output_type": "execute_result"
    }
   ],
   "source": [
    "commonAnalysis.head()"
   ]
  },
  {
   "cell_type": "markdown",
   "metadata": {},
   "source": [
    "The above shows that after vowels were removed, there are 4 duplicates of the word \"fll\", 4 duplicates of the word \"ht\" and so on..."
   ]
  },
  {
   "cell_type": "code",
   "execution_count": 56,
   "metadata": {},
   "outputs": [
    {
     "data": {
      "text/html": [
       "<div>\n",
       "<style>\n",
       "    .dataframe thead tr:only-child th {\n",
       "        text-align: right;\n",
       "    }\n",
       "\n",
       "    .dataframe thead th {\n",
       "        text-align: left;\n",
       "    }\n",
       "\n",
       "    .dataframe tbody tr th {\n",
       "        vertical-align: top;\n",
       "    }\n",
       "</style>\n",
       "<table border=\"1\" class=\"dataframe\">\n",
       "  <thead>\n",
       "    <tr style=\"text-align: right;\">\n",
       "      <th></th>\n",
       "      <th>Count</th>\n",
       "    </tr>\n",
       "  </thead>\n",
       "  <tbody>\n",
       "    <tr>\n",
       "      <th>1</th>\n",
       "      <td>845</td>\n",
       "    </tr>\n",
       "    <tr>\n",
       "      <th>2</th>\n",
       "      <td>63</td>\n",
       "    </tr>\n",
       "    <tr>\n",
       "      <th>3</th>\n",
       "      <td>7</td>\n",
       "    </tr>\n",
       "    <tr>\n",
       "      <th>4</th>\n",
       "      <td>2</td>\n",
       "    </tr>\n",
       "  </tbody>\n",
       "</table>\n",
       "</div>"
      ],
      "text/plain": [
       "   Count\n",
       "1    845\n",
       "2     63\n",
       "3      7\n",
       "4      2"
      ]
     },
     "execution_count": 56,
     "metadata": {},
     "output_type": "execute_result"
    }
   ],
   "source": [
    "commonCounter.head()"
   ]
  },
  {
   "cell_type": "markdown",
   "metadata": {},
   "source": [
    "The above shows that there are 845 unique words. There are 63 words that have 2 duplicates, 7 words which have 3 duplicates, and 2 words that have 4 duplicates.\n",
    "\n",
    "Not too bad..."
   ]
  },
  {
   "cell_type": "markdown",
   "metadata": {},
   "source": [
    "**Some graphs**\n",
    "\n",
    "We will plot the graphs of commonAnalysis and englishAnalysis. This will show how many duplicates there are of a certain word.\n"
   ]
  },
  {
   "cell_type": "code",
   "execution_count": 57,
   "metadata": {},
   "outputs": [
    {
     "data": {
      "image/png": "[encoded data removed]",
      "text/plain": [
       "<matplotlib.figure.Figure at 0x121b800f0>"
      ]
     },
     "metadata": {},
     "output_type": "display_data"
    },
    {
     "data": {
      "image/png": "[encoded data removed]",
      "text/plain": [
       "<matplotlib.figure.Figure at 0x123035ba8>"
      ]
     },
     "metadata": {},
     "output_type": "display_data"
    }
   ],
   "source": [
    "#for COMMON\n",
    "DuplicateWordsCommon = commonAnalysis.plot(x=commonAnalysis.index, y = 'Count', title = 'Duplicate Words', xticks =[], colormap='jet', figsize = (15,15))\n",
    "DuplicateWordsCommon.set(xlabel=\"Vowel Removed Word (Word not shown)\", ylabel=\"Count\")\n",
    "plt.show()\n",
    "\n",
    "#for ENGLISH\n",
    "DuplicateWordsEnglish = englishAnalysis.plot(x=englishAnalysis.index, y = 'Count', title = 'Duplicate Words', yticks= [2,4,6,8,10,12,14,16,18], xticks =[], colormap='jet', figsize = (15,15))\n",
    "DuplicateWordsEnglish.set(xlabel=\"Vowel Removed Word (Word not shown)\", ylabel=\"Count\")\n",
    "plt.show()\n"
   ]
  },
  {
   "cell_type": "markdown",
   "metadata": {},
   "source": [
    "The above graphs are heavily skewed to words with a count of 1 (no duplicates), so we will ignore some of the data to get a better look.\n"
   ]
  },
  {
   "cell_type": "code",
   "execution_count": 58,
   "metadata": {},
   "outputs": [
    {
     "data": {
      "image/png": "[encoded data removed]",
      "text/plain": [
       "<matplotlib.figure.Figure at 0x11f8f9898>"
      ]
     },
     "metadata": {},
     "output_type": "display_data"
    }
   ],
   "source": [
    "#These barplots also show the specific word\n",
    "\n",
    "#for COMMON\n",
    "#ignore any words with less than 2 duplicates\n",
    "DuplicateWordsCommon = commonAnalysis.plot.barh(x=commonAnalysis.index, y = commonAnalysis['Count']>2, title = 'Duplicate Words' , colormap='jet', figsize = (10,20))\n",
    "DuplicateWordsCommon.set(ylabel=\"Words\", xlabel=\"Count\")\n",
    "plt.show()"
   ]
  },
  {
   "cell_type": "code",
   "execution_count": 59,
   "metadata": {},
   "outputs": [
    {
     "data": {
      "image/png": "[encoded data removed]",
      "text/plain": [
       "<matplotlib.figure.Figure at 0x1225c9780>"
      ]
     },
     "metadata": {},
     "output_type": "display_data"
    }
   ],
   "source": [
    "#for ENGLISH\n",
    "#ignore any words with less than 10 duplicates\n",
    "DuplicateWordsEnglish = englishAnalysis.plot.barh(x=englishAnalysis.index, y = englishAnalysis['Count'] >10, xticks = [2,4,6,8,10,12,14,16,18], title = 'Duplicate Words', colormap='jet', figsize = (10,20))\n",
    "DuplicateWordsEnglish.set(ylabel=\"Words\", xlabel=\"Count\")\n",
    "plt.show()"
   ]
  },
  {
   "cell_type": "markdown",
   "metadata": {},
   "source": [
    "These barcharts show the exact word which has duplicates and how many duplicates of each there are.\n",
    "\n",
    "\"mns\" is the word with the most duplicates..."
   ]
  },
  {
   "cell_type": "markdown",
   "metadata": {},
   "source": [
    "**More Graphs**\n",
    "\n",
    "Here we graph commonCounter and englishCounter. This shows how many words have duplicates."
   ]
  },
  {
   "cell_type": "code",
   "execution_count": 60,
   "metadata": {},
   "outputs": [
    {
     "name": "stderr",
     "output_type": "stream",
     "text": [
      "/Users/joo/anaconda/lib/python3.6/site-packages/ipykernel_launcher.py:7: DeprecationWarning: \n",
      ".ix is deprecated. Please use\n",
      ".loc for label based indexing or\n",
      ".iloc for positional indexing\n",
      "\n",
      "See the documentation here:\n",
      "http://pandas.pydata.org/pandas-docs/stable/indexing.html#deprecate_ix\n",
      "  import sys\n"
     ]
    },
    {
     "data": {
      "image/png": "[encoded data removed]",
      "text/plain": [
       "<matplotlib.figure.Figure at 0x123026128>"
      ]
     },
     "metadata": {},
     "output_type": "display_data"
    },
    {
     "name": "stderr",
     "output_type": "stream",
     "text": [
      "/Users/joo/anaconda/lib/python3.6/site-packages/ipykernel_launcher.py:16: DeprecationWarning: \n",
      ".ix is deprecated. Please use\n",
      ".loc for label based indexing or\n",
      ".iloc for positional indexing\n",
      "\n",
      "See the documentation here:\n",
      "http://pandas.pydata.org/pandas-docs/stable/indexing.html#deprecate_ix\n",
      "  app.launch_new_instance()\n"
     ]
    },
    {
     "data": {
      "image/png": "[encoded data removed]",
      "text/plain": [
       "<matplotlib.figure.Figure at 0x111cf68d0>"
      ]
     },
     "metadata": {},
     "output_type": "display_data"
    }
   ],
   "source": [
    "#Count of Number of Duplicate Words\n",
    "\n",
    "#For COMMON\n",
    "CountDupWordsCommon = commonCounter.plot(kind='bar',x=commonCounter.index, y = 'Count', title = 'How many Duplicate Words are there?', figsize = (10,10))\n",
    "CountDupWordsCommon.set(xlabel=\"Number of Words\", ylabel=\"Count\")\n",
    "for i, label in enumerate(list(commonCounter.index)):\n",
    "    score = commonCounter.ix[label]['Count']\n",
    "    CountDupWordsCommon.annotate(str(score), (i -.1, score+ 10))\n",
    "    \n",
    "plt.show()\n",
    "\n",
    "#Count of Number of Duplicate Words\n",
    "CountDupWordsEnglish = englishCounter.plot(kind='bar',x=englishCounter.index, y = 'Count', title = 'How many Duplicate Words are there?', figsize = (10,10))\n",
    "CountDupWordsEnglish.set(xlabel=\"Number of Words\", ylabel=\"Count\")\n",
    "for i, label in enumerate(list(englishCounter.index)):\n",
    "    score = englishCounter.ix[label]['Count']\n",
    "    CountDupWordsEnglish.annotate(str(score), (i -.3, score+ 1000))\n",
    "    \n",
    "plt.show()"
   ]
  },
  {
   "cell_type": "markdown",
   "metadata": {},
   "source": [
    "The above graphs shows that even after vowels are removed (with certain exceptions) we have 845 and 156253 unique words in our lists, common and english.\n",
    "\n",
    "Thats a lot of words that are still unique, even after we remove characters from it...\n",
    "\n",
    "But what's the point?\n",
    "Well... let's see how many characters are eliminated from our vowel removing."
   ]
  },
  {
   "cell_type": "markdown",
   "metadata": {},
   "source": [
    "# Efficiency\n",
    "\n",
    "How many characters are removed?\n",
    "\n",
    "To do this, we take the sum of the lengths of the words before and after vowels are removed. We do this for both common and english."
   ]
  },
  {
   "cell_type": "code",
   "execution_count": 61,
   "metadata": {},
   "outputs": [
    {
     "name": "stderr",
     "output_type": "stream",
     "text": [
      "/Users/joo/anaconda/lib/python3.6/site-packages/ipykernel_launcher.py:15: DeprecationWarning: \n",
      ".ix is deprecated. Please use\n",
      ".loc for label based indexing or\n",
      ".iloc for positional indexing\n",
      "\n",
      "See the documentation here:\n",
      "http://pandas.pydata.org/pandas-docs/stable/indexing.html#deprecate_ix\n",
      "  from ipykernel import kernelapp as app\n"
     ]
    },
    {
     "data": {
      "image/png": "[encoded data removed]",
      "text/plain": [
       "<matplotlib.figure.Figure at 0x1230a1470>"
      ]
     },
     "metadata": {},
     "output_type": "display_data"
    }
   ],
   "source": [
    "#length difference before and after for COMMON\n",
    "\n",
    "#This is asssuming all words are unique, which they are not\n",
    "common['Length Before'] = common['Words'].str.len()\n",
    "common['Length After'] = common['FinalList'].str.len()\n",
    "\n",
    "#Creating a new DataFrame but summing all lengths Before/After\n",
    "values = [common['Length Before'].sum(),common['Length After'].sum()]\n",
    "BeforeAfterCommon = pd.DataFrame(values, index = ('Before','After'))\n",
    "\n",
    "#creating a graph of the number of characters\n",
    "BeforeAfterGraphCommon = BeforeAfterCommon.plot.bar(title = 'How many Characters are Eliminated?', figsize=(10,10))\n",
    "BeforeAfterGraphCommon.set(ylabel=\"Number of Characters\")\n",
    "for i, label in enumerate(list(BeforeAfterCommon.index)):\n",
    "    score = BeforeAfterCommon.ix[label][0]\n",
    "    BeforeAfterGraphCommon.annotate(str(score), (i -.1, score+ 100))\n",
    "plt.show()"
   ]
  },
  {
   "cell_type": "markdown",
   "metadata": {},
   "source": [
    "For dataset common, the number of characters drops from 4840 to 3903. Thats almost a 20% drop in characters!"
   ]
  },
  {
   "cell_type": "code",
   "execution_count": 62,
   "metadata": {},
   "outputs": [
    {
     "name": "stderr",
     "output_type": "stream",
     "text": [
      "/Users/joo/anaconda/lib/python3.6/site-packages/ipykernel_launcher.py:15: DeprecationWarning: \n",
      ".ix is deprecated. Please use\n",
      ".loc for label based indexing or\n",
      ".iloc for positional indexing\n",
      "\n",
      "See the documentation here:\n",
      "http://pandas.pydata.org/pandas-docs/stable/indexing.html#deprecate_ix\n",
      "  from ipykernel import kernelapp as app\n"
     ]
    },
    {
     "data": {
      "image/png": "[encoded data removed]",
      "text/plain": [
       "<matplotlib.figure.Figure at 0x11ab94a58>"
      ]
     },
     "metadata": {},
     "output_type": "display_data"
    }
   ],
   "source": [
    "#length difference before and after for ENGLISH\n",
    "\n",
    "#This is asssuming all words are unique, which they are not\n",
    "english['Length Before'] = english['Words'].str.len()\n",
    "english['Length After'] = english['FinalList'].str.len()\n",
    "\n",
    "#Creating a new DataFrame but summing all lengths Before/After\n",
    "values = [english['Length Before'].sum(),english['Length After'].sum()]\n",
    "BeforeAfterEnglish = pd.DataFrame(values, index = ('Before','After'))\n",
    "\n",
    "#creating a graph of the number of characters\n",
    "BeforeAfterGraphEnglish = BeforeAfterEnglish.plot.bar(title = 'How many Characters are Eliminated?', figsize=(10,10))\n",
    "BeforeAfterGraphEnglish.set(ylabel=\"Number of Characters\")\n",
    "for i, label in enumerate(list(BeforeAfterEnglish.index)):\n",
    "    score = BeforeAfterEnglish.ix[label][0]\n",
    "    BeforeAfterGraphEnglish.annotate(str(score), (i -.1, score+ 10000))\n",
    "plt.show()"
   ]
  },
  {
   "cell_type": "markdown",
   "metadata": {},
   "source": [
    "For dataset english, the number of characters drops from 1713603 to 1278485. Thats another 20% drop in characters!"
   ]
  },
  {
   "cell_type": "markdown",
   "metadata": {},
   "source": [
    "**More on Efficiency**\n",
    "\n",
    "But we are forgetting one thing. Not all the words were unique! That means we are losing understanding of words which have duplicates. So let's only count characters of words which are unique.\n",
    "\n",
    "First we merge the words from commonAnalysis which have a 'Count' of 1 (meaning that are unique), with our original common list."
   ]
  },
  {
   "cell_type": "code",
   "execution_count": 63,
   "metadata": {},
   "outputs": [
    {
     "name": "stderr",
     "output_type": "stream",
     "text": [
      "/Users/joo/anaconda/lib/python3.6/site-packages/ipykernel_launcher.py:2: SettingWithCopyWarning: \n",
      "A value is trying to be set on a copy of a slice from a DataFrame.\n",
      "Try using .loc[row_indexer,col_indexer] = value instead\n",
      "\n",
      "See the caveats in the documentation: http://pandas.pydata.org/pandas-docs/stable/indexing.html#indexing-view-versus-copy\n",
      "  \n"
     ]
    }
   ],
   "source": [
    "nodup = commonAnalysis[commonAnalysis['Count'] == 1]\n",
    "nodup['FinalList'] = nodup.index\n",
    "\n",
    "#Create a new dataframe of values that have NO DUPLICATES with a merge onto nodup; list of words with NO duplicates\n",
    "CommonNoDup = pd.merge(nodup, common,\n",
    "                       on='FinalList',\n",
    "                       how='left',\n",
    "                       indicator = True\n",
    "                       )"
   ]
  },
  {
   "cell_type": "code",
   "execution_count": 64,
   "metadata": {},
   "outputs": [
    {
     "data": {
      "text/html": [
       "<div>\n",
       "<style>\n",
       "    .dataframe thead tr:only-child th {\n",
       "        text-align: right;\n",
       "    }\n",
       "\n",
       "    .dataframe thead th {\n",
       "        text-align: left;\n",
       "    }\n",
       "\n",
       "    .dataframe tbody tr th {\n",
       "        vertical-align: top;\n",
       "    }\n",
       "</style>\n",
       "<table border=\"1\" class=\"dataframe\">\n",
       "  <thead>\n",
       "    <tr style=\"text-align: right;\">\n",
       "      <th></th>\n",
       "      <th>Count</th>\n",
       "      <th>FinalList</th>\n",
       "      <th>Words</th>\n",
       "      <th>Length Before</th>\n",
       "      <th>Length After</th>\n",
       "      <th>_merge</th>\n",
       "    </tr>\n",
       "  </thead>\n",
       "  <tbody>\n",
       "    <tr>\n",
       "      <th>0</th>\n",
       "      <td>1</td>\n",
       "      <td>our</td>\n",
       "      <td>our</td>\n",
       "      <td>3</td>\n",
       "      <td>3</td>\n",
       "      <td>both</td>\n",
       "    </tr>\n",
       "    <tr>\n",
       "      <th>1</th>\n",
       "      <td>1</td>\n",
       "      <td>hppy</td>\n",
       "      <td>happy</td>\n",
       "      <td>5</td>\n",
       "      <td>4</td>\n",
       "      <td>both</td>\n",
       "    </tr>\n",
       "    <tr>\n",
       "      <th>2</th>\n",
       "      <td>1</td>\n",
       "      <td>chrge</td>\n",
       "      <td>charge</td>\n",
       "      <td>6</td>\n",
       "      <td>5</td>\n",
       "      <td>both</td>\n",
       "    </tr>\n",
       "    <tr>\n",
       "      <th>3</th>\n",
       "      <td>1</td>\n",
       "      <td>instnt</td>\n",
       "      <td>instant</td>\n",
       "      <td>7</td>\n",
       "      <td>6</td>\n",
       "      <td>both</td>\n",
       "    </tr>\n",
       "    <tr>\n",
       "      <th>4</th>\n",
       "      <td>1</td>\n",
       "      <td>neighbr</td>\n",
       "      <td>neighbor</td>\n",
       "      <td>8</td>\n",
       "      <td>7</td>\n",
       "      <td>both</td>\n",
       "    </tr>\n",
       "    <tr>\n",
       "      <th>5</th>\n",
       "      <td>1</td>\n",
       "      <td>pound</td>\n",
       "      <td>pound</td>\n",
       "      <td>5</td>\n",
       "      <td>5</td>\n",
       "      <td>both</td>\n",
       "    </tr>\n",
       "    <tr>\n",
       "      <th>6</th>\n",
       "      <td>1</td>\n",
       "      <td>pplte</td>\n",
       "      <td>populate</td>\n",
       "      <td>8</td>\n",
       "      <td>5</td>\n",
       "      <td>both</td>\n",
       "    </tr>\n",
       "    <tr>\n",
       "      <th>7</th>\n",
       "      <td>1</td>\n",
       "      <td>again</td>\n",
       "      <td>again</td>\n",
       "      <td>5</td>\n",
       "      <td>5</td>\n",
       "      <td>both</td>\n",
       "    </tr>\n",
       "    <tr>\n",
       "      <th>8</th>\n",
       "      <td>1</td>\n",
       "      <td>sea</td>\n",
       "      <td>sea</td>\n",
       "      <td>3</td>\n",
       "      <td>3</td>\n",
       "      <td>both</td>\n",
       "    </tr>\n",
       "    <tr>\n",
       "      <th>9</th>\n",
       "      <td>1</td>\n",
       "      <td>able</td>\n",
       "      <td>able</td>\n",
       "      <td>4</td>\n",
       "      <td>4</td>\n",
       "      <td>both</td>\n",
       "    </tr>\n",
       "  </tbody>\n",
       "</table>\n",
       "</div>"
      ],
      "text/plain": [
       "   Count FinalList     Words  Length Before  Length After _merge\n",
       "0      1       our       our              3             3   both\n",
       "1      1      hppy     happy              5             4   both\n",
       "2      1     chrge    charge              6             5   both\n",
       "3      1    instnt   instant              7             6   both\n",
       "4      1   neighbr  neighbor              8             7   both\n",
       "5      1     pound     pound              5             5   both\n",
       "6      1     pplte  populate              8             5   both\n",
       "7      1     again     again              5             5   both\n",
       "8      1       sea       sea              3             3   both\n",
       "9      1      able      able              4             4   both"
      ]
     },
     "execution_count": 64,
     "metadata": {},
     "output_type": "execute_result"
    }
   ],
   "source": [
    "CommonNoDup.head(10)"
   ]
  },
  {
   "cell_type": "markdown",
   "metadata": {},
   "source": [
    "The new list CommonNoDup has words that are unique and leaves out any words with duplicates. Let us also do this for list english."
   ]
  },
  {
   "cell_type": "code",
   "execution_count": 65,
   "metadata": {},
   "outputs": [
    {
     "name": "stderr",
     "output_type": "stream",
     "text": [
      "/Users/joo/anaconda/lib/python3.6/site-packages/ipykernel_launcher.py:2: SettingWithCopyWarning: \n",
      "A value is trying to be set on a copy of a slice from a DataFrame.\n",
      "Try using .loc[row_indexer,col_indexer] = value instead\n",
      "\n",
      "See the caveats in the documentation: http://pandas.pydata.org/pandas-docs/stable/indexing.html#indexing-view-versus-copy\n",
      "  \n"
     ]
    }
   ],
   "source": [
    "nodup = englishAnalysis[englishAnalysis['Count'] == 1]\n",
    "nodup['FinalList'] = nodup.index\n",
    "\n",
    "#Create a new dataframe of values that have NO DUPLICATES with a merge onto nodup; list of words with NO duplicates\n",
    "EnglishNoDup = pd.merge(nodup, english,\n",
    "                       on='FinalList',\n",
    "                       how='left',\n",
    "                       indicator = True\n",
    "                       )"
   ]
  },
  {
   "cell_type": "code",
   "execution_count": 66,
   "metadata": {},
   "outputs": [
    {
     "data": {
      "text/html": [
       "<div>\n",
       "<style>\n",
       "    .dataframe thead tr:only-child th {\n",
       "        text-align: right;\n",
       "    }\n",
       "\n",
       "    .dataframe thead th {\n",
       "        text-align: left;\n",
       "    }\n",
       "\n",
       "    .dataframe tbody tr th {\n",
       "        vertical-align: top;\n",
       "    }\n",
       "</style>\n",
       "<table border=\"1\" class=\"dataframe\">\n",
       "  <thead>\n",
       "    <tr style=\"text-align: right;\">\n",
       "      <th></th>\n",
       "      <th>Count</th>\n",
       "      <th>FinalList</th>\n",
       "      <th>Words</th>\n",
       "      <th>Vowels Removed</th>\n",
       "      <th>Vowels Removed EXCPT First and Last</th>\n",
       "      <th>Vowels Removed EXCPT Consec</th>\n",
       "      <th>Vowels Removed with EXCPT A and B</th>\n",
       "      <th>Length Before</th>\n",
       "      <th>Length After</th>\n",
       "      <th>_merge</th>\n",
       "    </tr>\n",
       "  </thead>\n",
       "  <tbody>\n",
       "    <tr>\n",
       "      <th>0</th>\n",
       "      <td>1</td>\n",
       "      <td>hrdshps</td>\n",
       "      <td>hardships</td>\n",
       "      <td>hrdshps</td>\n",
       "      <td>HrdshpS</td>\n",
       "      <td>hrdshps</td>\n",
       "      <td>HrdshpS</td>\n",
       "      <td>9</td>\n",
       "      <td>7</td>\n",
       "      <td>both</td>\n",
       "    </tr>\n",
       "    <tr>\n",
       "      <th>1</th>\n",
       "      <td>1</td>\n",
       "      <td>syphnd</td>\n",
       "      <td>syphoned</td>\n",
       "      <td>syphnd</td>\n",
       "      <td>SyphnD</td>\n",
       "      <td>syphnd</td>\n",
       "      <td>SyphnD</td>\n",
       "      <td>8</td>\n",
       "      <td>6</td>\n",
       "      <td>both</td>\n",
       "    </tr>\n",
       "    <tr>\n",
       "      <th>2</th>\n",
       "      <td>1</td>\n",
       "      <td>icnphlsm</td>\n",
       "      <td>iconophilism</td>\n",
       "      <td>cnphlsm</td>\n",
       "      <td>IcnphlsM</td>\n",
       "      <td>cnphlsm</td>\n",
       "      <td>IcnphlsM</td>\n",
       "      <td>12</td>\n",
       "      <td>8</td>\n",
       "      <td>both</td>\n",
       "    </tr>\n",
       "    <tr>\n",
       "      <th>3</th>\n",
       "      <td>1</td>\n",
       "      <td>trclours</td>\n",
       "      <td>tricolours</td>\n",
       "      <td>trclrs</td>\n",
       "      <td>TrclrS</td>\n",
       "      <td>trclOUrs</td>\n",
       "      <td>TrclOUrS</td>\n",
       "      <td>10</td>\n",
       "      <td>8</td>\n",
       "      <td>both</td>\n",
       "    </tr>\n",
       "    <tr>\n",
       "      <th>4</th>\n",
       "      <td>1</td>\n",
       "      <td>footlng</td>\n",
       "      <td>footling</td>\n",
       "      <td>ftlng</td>\n",
       "      <td>FtlnG</td>\n",
       "      <td>fOOtlng</td>\n",
       "      <td>FOOtlnG</td>\n",
       "      <td>8</td>\n",
       "      <td>7</td>\n",
       "      <td>both</td>\n",
       "    </tr>\n",
       "  </tbody>\n",
       "</table>\n",
       "</div>"
      ],
      "text/plain": [
       "   Count FinalList         Words Vowels Removed  \\\n",
       "0      1   hrdshps     hardships        hrdshps   \n",
       "1      1    syphnd      syphoned         syphnd   \n",
       "2      1  icnphlsm  iconophilism        cnphlsm   \n",
       "3      1  trclours    tricolours         trclrs   \n",
       "4      1   footlng      footling          ftlng   \n",
       "\n",
       "  Vowels Removed EXCPT First and Last Vowels Removed EXCPT Consec  \\\n",
       "0                             HrdshpS                     hrdshps   \n",
       "1                              SyphnD                      syphnd   \n",
       "2                            IcnphlsM                     cnphlsm   \n",
       "3                              TrclrS                    trclOUrs   \n",
       "4                               FtlnG                     fOOtlng   \n",
       "\n",
       "  Vowels Removed with EXCPT A and B  Length Before  Length After _merge  \n",
       "0                           HrdshpS              9             7   both  \n",
       "1                            SyphnD              8             6   both  \n",
       "2                          IcnphlsM             12             8   both  \n",
       "3                          TrclOUrS             10             8   both  \n",
       "4                           FOOtlnG              8             7   both  "
      ]
     },
     "execution_count": 66,
     "metadata": {},
     "output_type": "execute_result"
    }
   ],
   "source": [
    "EnglishNoDup.head()"
   ]
  },
  {
   "cell_type": "markdown",
   "metadata": {},
   "source": [
    "**Percent Reduction**\n",
    "\n",
    "Let's calculate the percent reduction, before and after vowel removing, for only unique words."
   ]
  },
  {
   "cell_type": "code",
   "execution_count": 67,
   "metadata": {},
   "outputs": [
    {
     "data": {
      "text/plain": [
       "0.24796815586893217"
      ]
     },
     "execution_count": 67,
     "metadata": {},
     "output_type": "execute_result"
    }
   ],
   "source": [
    "#Calculating Percent Reduction for ENGLISH\n",
    "(EnglishNoDup['Length Before'].sum() - EnglishNoDup['Length After'].sum())/ EnglishNoDup['Length Before'].sum()"
   ]
  },
  {
   "cell_type": "code",
   "execution_count": 68,
   "metadata": {},
   "outputs": [
    {
     "data": {
      "text/plain": [
       "0.18366863905325445"
      ]
     },
     "execution_count": 68,
     "metadata": {},
     "output_type": "execute_result"
    }
   ],
   "source": [
    "#Calculating Percent Reduction for COMMON\n",
    "(CommonNoDup['Length Before'].sum() - CommonNoDup['Length After'].sum())/ CommonNoDup['Length Before'].sum()"
   ]
  },
  {
   "cell_type": "markdown",
   "metadata": {},
   "source": [
    "For english, we have a 24.8% reduction in characters!\n",
    "\n",
    "For common, we have a 18.4% reduction in characters!"
   ]
  },
  {
   "cell_type": "markdown",
   "metadata": {},
   "source": [
    "# Conclusion\n",
    "\n",
    "The point of removing vowels, while maintaining meaning in words is to delete any extraneous characters.\n",
    "\n",
    "For example, there are 156253 words in the English dictionary that can have their vowels removed, and yet remain unique. With a ~20% reduction in the number of characters by doing so, that's a lot of space we are wasting!\n",
    "\n",
    "**Afterword**\n",
    "\n",
    "So I was planning on implementing the same functions of vowel removing on an actual piece of literature: the Brown Corpus, a collection of texts. (http://www.sls.hawaii.edu/bley-vroman/brown.txt)\n",
    "\n",
    "This is critical because obviously, there are so many words in the English dictionary that we don't use. What is most important is whether vowel removing is actually meaningful to the few hundreds of commonly used English words.\n",
    "\n",
    "Zipf's Law states that the most commonly used word appears twice as much as the second, three times as much as the third, and so on. That means that the effectiness of vowel removing will decrease heavily as it is implemented on less frequently used words.\n",
    "\n",
    "However, I was unable to parse the text in the online .txt files (it kept reading the text as having multiple columns).\n",
    "It would be great to see if the logx and logy relationship of Zipf's Law would hold, under vowel removing.\n",
    "\n",
    "Yet, in my analysis of the 1000 most commonly used words, we have a 18.4% reduction in the number of characters used. That's a huge reduction of extraneous characters!\n",
    "\n",
    "I imagine that in a database, a computer would automatically delete the vowels and store the plain words. When the time comes for a user to read the text, the computer can simply parse the text, and input the vowels from its \"vowels dictionary converter.\""
   ]
  },
  {
   "cell_type": "code",
   "execution_count": null,
   "metadata": {
    "collapsed": true
   },
   "outputs": [],
   "source": []
  }
 ],
 "metadata": {
  "kernelspec": {
   "display_name": "Python 3",
   "language": "python",
   "name": "python3"
  },
  "language_info": {
   "codemirror_mode": {
    "name": "ipython",
    "version": 3
   },
   "file_extension": ".py",
   "mimetype": "text/x-python",
   "name": "python",
   "nbconvert_exporter": "python",
   "pygments_lexer": "ipython3",
   "version": "3.6.1"
  }
 },
 "nbformat": 4,
 "nbformat_minor": 2
}
